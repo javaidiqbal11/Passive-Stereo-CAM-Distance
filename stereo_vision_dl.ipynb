{
 "cells": [
  {
   "cell_type": "markdown",
   "id": "35fc6642-13c4-42fe-958a-1561d5fdd054",
   "metadata": {},
   "source": [
    "#### ESP32 Stereo Camera Code"
   ]
  },
  {
   "cell_type": "code",
   "execution_count": 1,
   "id": "25f813a1-d342-4ce3-9bd3-760a5b8ab46a",
   "metadata": {
    "ExecuteTime": {
     "end_time": "2024-02-20T09:38:04.673734997Z",
     "start_time": "2024-02-20T09:38:01.348730366Z"
    }
   },
   "outputs": [],
   "source": [
    "import requests\n",
    "import numpy as np\n",
    "import cv2\n",
    "import matplotlib.pyplot as plt\n",
    "import scipy\n",
    "import scipy.optimize\n",
    "import torch\n",
    "import torchvision\n",
    "import torchvision.transforms.functional as tvtf\n",
    "from torchvision.models.detection import MaskRCNN_ResNet50_FPN_Weights,MaskRCNN_ResNet50_FPN_V2_Weights\n",
    "\n",
    "#this is the file with auxillary functions. stereo_image_utils.py. Should be in the same\n",
    "#directory as the notebook\n",
    "import stereo_image_utils\n",
    "from stereo_image_utils import get_detections, get_cost, draw_detections, annotate_class2 \n",
    "from stereo_image_utils import get_horiz_dist_corner_tl, get_horiz_dist_corner_br, get_dist_to_centre_tl, get_dist_to_centre_br"
   ]
  },
  {
   "cell_type": "code",
   "execution_count": 2,
   "id": "a25d2a9e-dadd-4d8f-b2b2-d82deca85141",
   "metadata": {
    "ExecuteTime": {
     "end_time": "2024-02-20T09:38:04.674398422Z",
     "start_time": "2024-02-20T09:38:04.673603451Z"
    }
   },
   "outputs": [],
   "source": [
    "cnt = 1\n",
    "\n",
    "#focal length. Pre-calibrated in stereo_image_v6 notebook\n",
    "fl = -20.781906545841146\n",
    "tantheta = -0.5940572002826726\n",
    "\n"
   ]
  },
  {
   "cell_type": "code",
   "execution_count": 3,
   "id": "69fb78e9-a034-4ee7-a494-4c05894819bb",
   "metadata": {
    "ExecuteTime": {
     "end_time": "2024-02-20T09:38:04.674944013Z",
     "start_time": "2024-02-20T09:38:04.673840400Z"
    }
   },
   "outputs": [],
   "source": [
    "weights=MaskRCNN_ResNet50_FPN_V2_Weights.DEFAULT\n",
    "\n",
    "COLOURS = [\n",
    "    tuple(int(colour_hex.strip('#')[i:i+2], 16) for i in (0, 2, 4))\n",
    "    for colour_hex in plt.rcParams['axes.prop_cycle'].by_key()['color']\n",
    "]"
   ]
  },
  {
   "cell_type": "code",
   "execution_count": 4,
   "id": "946b04d2-f3d4-4c92-a399-dcca23652d05",
   "metadata": {
    "ExecuteTime": {
     "end_time": "2024-02-20T09:38:05.505321439Z",
     "start_time": "2024-02-20T09:38:04.673975981Z"
    }
   },
   "outputs": [],
   "source": [
    "model = torchvision.models.detection.maskrcnn_resnet50_fpn_v2(weights=weights)\n",
    "_ = model.eval()"
   ]
  },
  {
   "cell_type": "code",
   "execution_count": 5,
   "id": "cc60b19f-e830-44b0-85cf-96e9b836c8d8",
   "metadata": {
    "ExecuteTime": {
     "end_time": "2024-02-20T09:38:07.315682670Z",
     "start_time": "2024-02-20T09:38:05.506793585Z"
    }
   },
   "outputs": [],
   "source": [
    "#capture the images\n",
    "cap_left = cv2.VideoCapture(0)\n",
    "cap_right = cv2.VideoCapture(2)"
   ]
  },
  {
   "cell_type": "code",
   "execution_count": null,
   "id": "9de4bf26-9aae-4fed-9923-5136b233e227",
   "metadata": {
    "is_executing": true,
    "ExecuteTime": {
     "start_time": "2024-02-20T09:38:07.338648576Z"
    }
   },
   "outputs": [
    {
     "name": "stdout",
     "output_type": "stream",
     "text": [
      "['cup' 'dining table']\n",
      "['cup']\n",
      "cup is 60.3cm away\n"
     ]
    }
   ],
   "source": [
    "if __name__ == '__main__':\n",
    "    # set_resolution(URL_left, index=10)\n",
    "    # set_resolution(URL_right, index=10)\n",
    "\n",
    "    while True:\n",
    "        if cap_left.isOpened():\n",
    "            ret_l, frame_l = cap_left.read()\n",
    "            if ret_l:\n",
    "                cv2.imshow(\"left_eye\", frame_l) \n",
    "            else:\n",
    "                cap_left.release()\n",
    "                cap_left = cv2.VideoCapture(0)\n",
    "\n",
    "        if cap_right.isOpened():\n",
    "            ret_r, frame_r = cap_right.read()\n",
    "\n",
    "            if ret_r:\n",
    "                cv2.imshow(\"right_eye\", frame_r) \n",
    "            else:\n",
    "                cap_right.release()\n",
    "                cap_right = cv2.VideoCapture(2)\n",
    "        \n",
    "        if ret_r and ret_l :\n",
    "            #do stereo matching\n",
    "            imgs = [cv2.cvtColor(frame_l, cv2.COLOR_BGR2RGB),cv2.cvtColor(frame_r, cv2.COLOR_BGR2RGB)]\n",
    "            if cnt == 0:\n",
    "                cnt = 1\n",
    "                \n",
    "                det, lbls, scores, masks = get_detections(model,imgs)\n",
    "#                 if (len(det[1])==len(det[0])):\n",
    "#                     det[1] = det[1][:-1]\n",
    "                sz1 = frame_r.shape[1]\n",
    "                centre = sz1/2\n",
    "                print(np.array(weights.meta[\"categories\"])[lbls[0]])\n",
    "                print(np.array(weights.meta[\"categories\"])[lbls[1]])\n",
    "                cost = get_cost(det, lbls = lbls,sz1 = centre)\n",
    "                tracks = scipy.optimize.linear_sum_assignment(cost)\n",
    "\n",
    "                dists_tl =  get_horiz_dist_corner_tl(det)\n",
    "                dists_br =  get_horiz_dist_corner_br(det)\n",
    "\n",
    "                final_dists = []\n",
    "                dctl = get_dist_to_centre_tl(det[0],cntr = centre)\n",
    "                dcbr = get_dist_to_centre_br(det[0], cntr = centre)\n",
    "\n",
    "                for i, j in zip(*tracks):\n",
    "                    if dctl[i] < dcbr[i]:\n",
    "                        final_dists.append((dists_tl[i][j],np.array(weights.meta[\"categories\"])[lbls[0]][i]))\n",
    "                    else:\n",
    "                        final_dists.append((dists_br[i][j],np.array(weights.meta[\"categories\"])[lbls[0]][i]))\n",
    "                \n",
    "                #final distances as list\n",
    "                fd = [i for (i,j) in final_dists]\n",
    "                #find distance away\n",
    "                dists_away = (15.0/2)*sz1*(1/tantheta)/np.array(fd)+fl\n",
    "\n",
    "                cat_dist = []\n",
    "                for i in range(len(dists_away)):\n",
    "                    cat_dist.append(f'{np.array(weights.meta[\"categories\"])[lbls[0]][(tracks[0][i])]} {dists_away[i]:.1f}cm')\n",
    "                    print(f'{np.array(weights.meta[\"categories\"])[lbls[0]][(tracks[0][i])]} is {dists_away[i]:.1f}cm away')\n",
    "                t1 = [list(tracks[1]), list(tracks[0])]\n",
    "                frames_ret = []\n",
    "                for i, imgi in enumerate(imgs):\n",
    "                    img = imgi.copy()\n",
    "                    deti = det[i].astype(np.int32)\n",
    "                    draw_detections(img,deti[list(tracks[i])], obj_order=list(t1[1]))\n",
    "                    annotate_class2(img,deti[list(tracks[i])],lbls[i][list(tracks[i])],cat_dist)\n",
    "                    frames_ret.append(img)\n",
    "                cv2.imshow(\"left_eye\", cv2.cvtColor(frames_ret[0],cv2.COLOR_RGB2BGR))\n",
    "                cv2.imshow(\"right_eye\", cv2.cvtColor(frames_ret[1],cv2.COLOR_RGB2BGR))\n",
    "                while True:\n",
    "                    key1 = cv2.waitKey(1)\n",
    "                    if key1 == ord('p'):\n",
    "                        break\n",
    "        \n",
    "        key = cv2.waitKey(1)\n",
    "            \n",
    "        if key == ord('p'): #3d\n",
    "            cnt = 0\n",
    "\n",
    "        elif key == 27:\n",
    "            break\n",
    "\n",
    "    cv2.destroyAllWindows()\n",
    "    cap_left.release()\n",
    "    cap_right.release()"
   ]
  },
  {
   "cell_type": "code",
   "outputs": [],
   "source": [],
   "metadata": {
    "collapsed": false,
    "is_executing": true
   },
   "id": "4332083c967e22ec"
  }
 ],
 "metadata": {
  "kernelspec": {
   "display_name": "Python 3 (ipykernel)",
   "language": "python",
   "name": "python3"
  },
  "language_info": {
   "codemirror_mode": {
    "name": "ipython",
    "version": 3
   },
   "file_extension": ".py",
   "mimetype": "text/x-python",
   "name": "python",
   "nbconvert_exporter": "python",
   "pygments_lexer": "ipython3",
   "version": "3.9.6"
  }
 },
 "nbformat": 4,
 "nbformat_minor": 5
}
